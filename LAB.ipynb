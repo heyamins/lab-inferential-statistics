{
 "cells": [
  {
   "cell_type": "markdown",
   "id": "4b0d6554",
   "metadata": {},
   "source": [
    "**Instructions**   \n",
    "It is assumed that the mean systolic blood pressure is μ = 120 mm Hg. In the Honolulu Heart Study, a sample of n = 100 people had an average systolic blood pressure of 130.1 mm Hg with a standard deviation of 21.21 mm Hg. Is the group significantly different (with respect to systolic blood pressure!) from the regular population?\n",
    "\n",
    "**Set up the hypothesis test.**  \n",
    "Write down all the steps followed for setting up the test.\n",
    "Calculate the test statistic by hand and also code it in Python. It should be 4.76190. We will take a look at how to make decisions based on this calculated value.  \n",
    "    \n",
    "**If you finished the previous question,** please go through the code for principal_component_analysis_example provided in the files_for_lab folder ."
   ]
  },
  {
   "cell_type": "code",
   "execution_count": 3,
   "id": "cebc44a4",
   "metadata": {},
   "outputs": [
    {
     "data": {
      "text/plain": [
       "4.761904761904759"
      ]
     },
     "execution_count": 3,
     "metadata": {},
     "output_type": "execute_result"
    }
   ],
   "source": [
    "import math\n",
    "\n",
    "sample_mean = 130.1\n",
    "pop_mean = 120\n",
    "sample_std = 21.21\n",
    "n = 100\n",
    "\n",
    "statistic = (sample_mean - pop_mean)/(sample_std/math.sqrt(n))\n",
    "statistic\n"
   ]
  },
  {
   "cell_type": "markdown",
   "id": "492852f4",
   "metadata": {},
   "source": [
    "Null hypothesis  \n",
    "H0 = mean systolic blood pressure of the sample is the same as general poulation:  \n",
    "H0 u = 120  \n",
    "\n",
    "Alternative hypothesis H1, is that what we want to prove:  \n",
    "H1 u > 120  \n",
    "\n",
    "significance level = 0.05  \n",
    "\n",
    "t- critical value of 100 degree of freedom  =  1.660  \n",
    "\n",
    "t-value > t-critical value\n",
    "\n",
    "**We can reject the Null hypothesis**  \n",
    "**H0 = mean systolic blood pressure of the sample is the same as general poulation:  \n",
    "H0 u = 120**  \n",
    "\n",
    "## So Honolulu's mean blood pressure is most likely higher than 120mmHg"
   ]
  },
  {
   "cell_type": "code",
   "execution_count": null,
   "id": "3ab152fb",
   "metadata": {},
   "outputs": [],
   "source": []
  },
  {
   "cell_type": "code",
   "execution_count": null,
   "id": "8d698151",
   "metadata": {},
   "outputs": [],
   "source": []
  },
  {
   "cell_type": "code",
   "execution_count": null,
   "id": "df5100df",
   "metadata": {},
   "outputs": [],
   "source": []
  },
  {
   "cell_type": "code",
   "execution_count": null,
   "id": "835868b9",
   "metadata": {},
   "outputs": [],
   "source": []
  }
 ],
 "metadata": {
  "kernelspec": {
   "display_name": "Python 3 (ipykernel)",
   "language": "python",
   "name": "python3"
  },
  "language_info": {
   "codemirror_mode": {
    "name": "ipython",
    "version": 3
   },
   "file_extension": ".py",
   "mimetype": "text/x-python",
   "name": "python",
   "nbconvert_exporter": "python",
   "pygments_lexer": "ipython3",
   "version": "3.9.13"
  }
 },
 "nbformat": 4,
 "nbformat_minor": 5
}
